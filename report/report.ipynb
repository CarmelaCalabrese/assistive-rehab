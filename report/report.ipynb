{
 "cells": [
  {
   "cell_type": "code",
   "execution_count": 1,
   "metadata": {},
   "outputs": [
    {
     "data": {
      "text/html": [
       "<script>\n",
       "code_show=true; \n",
       "function code_toggle() {\n",
       " if (code_show){\n",
       " $('div.input').hide();\n",
       " } else {\n",
       " $('div.input').show();\n",
       " }\n",
       " code_show = !code_show\n",
       "} \n",
       "$( document ).ready(code_toggle);\n",
       "</script>\n",
       "<form action=\"javascript:code_toggle()\"><input type=\"submit\" value=\"Click here to toggle on/off the raw code.\"></form>"
      ],
      "text/plain": [
       "<IPython.core.display.HTML object>"
      ]
     },
     "execution_count": 1,
     "metadata": {},
     "output_type": "execute_result"
    }
   ],
   "source": [
    "\n",
    "from IPython.display import HTML\n",
    "\n",
    "HTML('''<script>\n",
    "code_show=true; \n",
    "function code_toggle() {\n",
    " if (code_show){\n",
    " $('div.input').hide();\n",
    " } else {\n",
    " $('div.input').show();\n",
    " }\n",
    " code_show = !code_show\n",
    "} \n",
    "$( document ).ready(code_toggle);\n",
    "</script>\n",
    "<form action=\"javascript:code_toggle()\"><input type=\"submit\" value=\"Click here to toggle on/off the raw code.\"></form>''')"
   ]
  },
  {
   "cell_type": "markdown",
   "metadata": {},
   "source": [
    "\n",
    "# Final report "
   ]
  },
  {
   "cell_type": "code",
   "execution_count": 2,
   "metadata": {},
   "outputs": [],
   "source": [
    "import warnings \n",
    "warnings.filterwarnings(\"ignore\",category=FutureWarning)\n",
    "warnings.filterwarnings(\"ignore\", message=\"numpy.dtype size changed\")\n",
    "import h5py\n",
    "import numpy as np\n",
    "import matplotlib.pyplot as plt\n",
    "from collections import namedtuple\n",
    "import math \n",
    "import re \n",
    "import pandas as pd\n",
    "import os\n",
    "import glob\n"
   ]
  },
  {
   "cell_type": "markdown",
   "metadata": {},
   "source": [
    " \n",
    "The report file is loaded from:"
   ]
  },
  {
   "cell_type": "code",
   "execution_count": 3,
   "metadata": {},
   "outputs": [
    {
     "name": "stdout",
     "output_type": "stream",
     "text": [
      "/home/r1-user/.local/share/yarp/contexts/motionAnalyzer\n"
     ]
    }
   ],
   "source": [
    "path = '/home/r1-user/.local/share/yarp/contexts/motionAnalyzer'\n",
    "print path\n",
    "files = glob.glob(os.path.join(path, '*.mat'))\n",
    "lastfile = len(files)-1\n",
    "file = files[lastfile]\n",
    "\n",
    "f = h5py.File(file,'r')"
   ]
  },
  {
   "cell_type": "code",
   "execution_count": 4,
   "metadata": {},
   "outputs": [],
   "source": [
    "tagkeypoints = []\n",
    "tagkeypoints.append('shoulderCenter')\n",
    "tagkeypoints.append('head')\n",
    "tagkeypoints.append('shoulderLeft')\n",
    "tagkeypoints.append('elbowLeft')\n",
    "tagkeypoints.append('handLeft')\n",
    "tagkeypoints.append('shoulderRight')\n",
    "tagkeypoints.append('elbowRight')\n",
    "tagkeypoints.append('handRight')\n",
    "tagkeypoints.append('hipLeft')\n",
    "tagkeypoints.append('kneeLeft')\n",
    "tagkeypoints.append('ankleLeft')\n",
    "tagkeypoints.append('hipRight')\n",
    "tagkeypoints.append('kneeRight')\n",
    "tagkeypoints.append('ankleRight') "
   ]
  },
  {
   "cell_type": "code",
   "execution_count": 5,
   "metadata": {},
   "outputs": [],
   "source": [
    "skeleton = namedtuple('skeleton', \n",
    "                      ['shoulderCenter','head','shoulderLeft','shoulderRight',\n",
    "                      'elbowLeft','handLeft','elbowRight','handRight',\n",
    "                      'hipLeft','hipRight','ankleLeft','ankleRight',\n",
    "                      'kneeLeft','kneeRight'])\n",
    "\n",
    "shoulderCenter = namedtuple('shoulderCenter', ['parent','child'])\n",
    "head = namedtuple('head', ['parent','child'])\n",
    "shoulderLeft = namedtuple('shoulderLeft', ['parent','child'])\n",
    "shoulderRight = namedtuple('shoulderRight', ['parent','child'])\n",
    "elbowLeft = namedtuple('elbowLeft', ['parent','child'])\n",
    "handLeft = namedtuple('handLeft', ['parent','child'])\n",
    "elbowRight = namedtuple('elbowRight', ['parent','child'])\n",
    "handRight = namedtuple('handRight', ['parent','child'])\n",
    "hipLeft = namedtuple('hipLeft', ['parent','child'])\n",
    "hipRight = namedtuple('hipRight', ['parent','child'])\n",
    "ankleLeft = namedtuple('ankleLeft', ['parent','child'])\n",
    "ankleRight = namedtuple('ankleRight', ['parent','child'])\n",
    "kneeLeft = namedtuple('kneeLeft', ['parent','child'])\n",
    "kneeRight = namedtuple('kneeRight', ['parent','child'])\n",
    "\n",
    "scSubst = shoulderCenter([''],['head','shoulderLeft','shoulderRight','hipLeft','hipRight'])\n",
    "heSubst = head(['shoulderCenter'],[''])\n",
    "slSubst = shoulderLeft(['shoulderCenter'],['elbowLeft'])\n",
    "srSubst = shoulderRight(['shoulderCenter'],['elbowRight'])\n",
    "elSubst = elbowLeft(['shoulderLeft'],['handLeft'])\n",
    "hlSubst = handLeft(['elbowLeft'],[''])\n",
    "erSubst = elbowRight(['shoulderRight'],['handRight'])\n",
    "hrSubst = handRight(['elbowRight'],[''])\n",
    "hilSubst = hipLeft(['shoulderCenter'],['kneeLeft'])\n",
    "hirSubst = hipRight(['shoulderCenter'],['kneeRight'])\n",
    "alSubst = ankleLeft(['kneeLeft'],[''])\n",
    "arSubst = ankleRight(['kneeRight'],[''])\n",
    "klSubst = kneeLeft(['hipLeft'],['ankleLeft'])\n",
    "krSubst = kneeRight(['hipRight'],['ankleRight'])\n",
    "\n",
    "skel = skeleton(scSubst,heSubst,slSubst,srSubst,elSubst,hlSubst,erSubst,\n",
    "                  hrSubst,hilSubst,hirSubst,alSubst,arSubst,klSubst,krSubst) "
   ]
  },
  {
   "cell_type": "code",
   "execution_count": 6,
   "metadata": {},
   "outputs": [],
   "source": [
    "keypoints = namedtuple('keypoints', \n",
    "                      ['shoulderCenter','head','shoulderLeft','shoulderRight',\n",
    "                      'elbowLeft','handLeft','elbowRight','handRight',\n",
    "                      'hipLeft','hipRight','ankleLeft','ankleRight','kneeLeft','kneeRight'])\n",
    "\n",
    "metric = namedtuple('ROM', ['motion_type','ref_joint','ref_direction','ref_plane','max','min','tstart','tend'])\n",
    "\n",
    "time_hdf5 = f['Time_samples'][()]\n",
    "time = np.transpose(time_hdf5)\n",
    "\n",
    "#hdf5 dataset keypoints\n",
    "shoulderCenter_hdf5 = f['Keypoints']['shoulderCenter']\n",
    "head_hdf5 = f['Keypoints']['head']\n",
    "shoulderLeft_hdf5 = f['Keypoints']['shoulderLeft']\n",
    "shoulderRight_hdf5 = f['Keypoints']['shoulderRight']\n",
    "elbowLeft_hdf5 = f['Keypoints']['elbowLeft']\n",
    "elbowRight_hdf5 = f['Keypoints']['elbowRight']\n",
    "handRight_hdf5 = f['Keypoints']['handRight']\n",
    "hipLeft_hdf5 = f['Keypoints']['hipLeft']\n",
    "hipRight_hdf5 = f['Keypoints']['hipRight']\n",
    "ankleLeft_hdf5 = f['Keypoints']['ankleLeft']\n",
    "ankleRight_hdf5 = f['Keypoints']['ankleRight']\n",
    "kneeLeft_hdf5 = f['Keypoints']['kneeLeft']\n",
    "kneeRight_hdf5 = f['Keypoints']['kneeRight']\n",
    "\n",
    "motion_type_hdf5 = f['ROM']['motion_type']\n",
    "refjoint_hdf5 = f['ROM']['ref_joint']\n",
    "refdir_hdf5 = f['ROM']['ref_direction']\n",
    "refplane_hdf5 = f['ROM']['ref_plane']\n",
    "max_hdf5 = f['ROM']['max']\n",
    "min_hdf5 = f['ROM']['min']\n",
    "tstart_hdf5 = f['ROM']['tstart']\n",
    "tend_hdf5 = f['ROM']['tend']\n",
    "\n",
    "s = shoulderCenter_hdf5\n",
    "shoulderCenter = np.transpose(s[()])\n",
    "s = head_hdf5\n",
    "head = np.transpose(s[()])\n",
    "s = shoulderLeft_hdf5\n",
    "shoulderLeft = np.transpose(s[()])\n",
    "s = shoulderRight_hdf5\n",
    "shoulderRight = np.transpose(s[()])\n",
    "s = elbowLeft_hdf5\n",
    "elbowLeft = np.transpose(s[()])   \n",
    "s = elbowRight_hdf5\n",
    "elbowRight = np.transpose(s[()])\n",
    "s = handRight_hdf5\n",
    "handRight = np.transpose(s[()])\n",
    "s = hipLeft_hdf5\n",
    "hipLeft = np.transpose(s[()])\n",
    "s = hipRight_hdf5\n",
    "hipRight = np.transpose(s[()])\n",
    "s = ankleLeft_hdf5\n",
    "ankleLeft = np.transpose(s[()])\n",
    "s = ankleRight_hdf5\n",
    "ankleRight = np.transpose(s[()])\n",
    "s = kneeLeft_hdf5\n",
    "kneeLeft = np.transpose(s[()]) \n",
    "s = kneeRight_hdf5\n",
    "kneeRight = np.transpose(s[()])\n",
    "\n",
    "m = motion_type_hdf5\n",
    "motion_type = re.sub(r'[^\\w]', '',(m[()]).tostring())\n",
    "m = refjoint_hdf5\n",
    "ref_joint = re.sub(r'[^\\w]', '',(m[()]).tostring())\n",
    "m = refdir_hdf5\n",
    "ref_direction = np.transpose(m[()])\n",
    "m = refplane_hdf5\n",
    "ref_plane = np.transpose(m[()])\n",
    "m = max_hdf5\n",
    "maxv = np.transpose(m[()])\n",
    "m = min_hdf5\n",
    "minv = np.transpose(m[()])\n",
    "m = tstart_hdf5\n",
    "tstart = np.transpose(m[()])       \n",
    "m = tend_hdf5\n",
    "tend = np.transpose(m[()])\n",
    "\n",
    "k = keypoints(shoulderCenter,head,shoulderLeft,shoulderRight,\n",
    "    elbowLeft,handLeft,elbowRight,handRight,\n",
    "    hipLeft,hipRight,ankleLeft,ankleRight,kneeLeft,kneeRight)\n",
    "rom = metric(motion_type,ref_joint,ref_direction,ref_plane,maxv,minv,tstart,tend) "
   ]
  },
  {
   "cell_type": "markdown",
   "metadata": {},
   "source": [
    " \n",
    "The sessions is the following, along with the evaluated metric and joint:"
   ]
  },
  {
   "cell_type": "code",
   "execution_count": 7,
   "metadata": {},
   "outputs": [
    {
     "data": {
      "text/html": [
       "<div>\n",
       "<style scoped>\n",
       "    .dataframe tbody tr th:only-of-type {\n",
       "        vertical-align: middle;\n",
       "    }\n",
       "\n",
       "    .dataframe tbody tr th {\n",
       "        vertical-align: top;\n",
       "    }\n",
       "\n",
       "    .dataframe thead th {\n",
       "        text-align: right;\n",
       "    }\n",
       "</style>\n",
       "<table border=\"1\" class=\"dataframe\">\n",
       "  <thead>\n",
       "    <tr style=\"text-align: right;\">\n",
       "      <th></th>\n",
       "      <th>Metric</th>\n",
       "      <th>Joint</th>\n",
       "      <th>Motion type</th>\n",
       "      <th>Time start</th>\n",
       "      <th>Time end</th>\n",
       "    </tr>\n",
       "  </thead>\n",
       "  <tbody>\n",
       "    <tr>\n",
       "      <th>0</th>\n",
       "      <td>ROM</td>\n",
       "      <td>shoulderRight</td>\n",
       "      <td>flexionx</td>\n",
       "      <td>74.941625</td>\n",
       "      <td>133.626675</td>\n",
       "    </tr>\n",
       "  </tbody>\n",
       "</table>\n",
       "</div>"
      ],
      "text/plain": [
       "  Metric          Joint Motion type  Time start    Time end\n",
       "0    ROM  shoulderRight    flexionx   74.941625  133.626675"
      ]
     },
     "execution_count": 7,
     "metadata": {},
     "output_type": "execute_result"
    }
   ],
   "source": [
    "\n",
    "data = []\n",
    "data.append([type(rom).__name__, rom.ref_joint, rom.motion_type, np.asscalar(rom.tstart), np.asscalar(rom.tend)])        \n",
    "pd.DataFrame(data, columns=[\"Metric\", \"Joint\", \"Motion type\", \"Time start\", \"Time end\"]) "
   ]
  },
  {
   "cell_type": "code",
   "execution_count": 8,
   "metadata": {},
   "outputs": [],
   "source": [
    "#joint we want to evaluate in the current session\n",
    "jnt = getattr(k,rom.ref_joint)\n",
    "jsess = jnt\n",
    "\n",
    "#direction wrt we want to evaluate the metric\n",
    "dirsess = rom.ref_direction\n",
    "\n",
    "#plane over which we want to evaluate the metric\n",
    "planesess = rom.ref_plane\n",
    "\n",
    "#joint child\n",
    "jskel = getattr(skel,rom.ref_joint)\n",
    "cld = jskel.child\n",
    "childval = getattr(k,cld[0])\n",
    "child = childval\n",
    "\n",
    "#compute metric\n",
    "x=jsess[:,0]\n",
    "y=jsess[:,1]\n",
    "z=jsess[:,2]\n",
    "\n",
    "xchild=child[:,0]\n",
    "ychild=child[:,1]\n",
    "zchild=child[:,2]\n",
    "\n",
    "v1x = x-xchild\n",
    "v1y = y-ychild\n",
    "v1z = z-zchild\n",
    "v1=np.array([v1x,v1y,v1z])\n",
    "v1=np.transpose(v1)\n",
    "\n",
    "#project v1 on the right plane\n",
    "dist = np.dot(v1,np.transpose(planesess))\n",
    "v1 = v1-dist*planesess\n",
    "\n",
    "cosRom = np.dot(v1,np.transpose(dirsess))\n",
    "rom_value = np.arccos(cosRom)\n",
    "result = rom_value *(180/math.pi)  "
   ]
  },
  {
   "cell_type": "markdown",
   "metadata": {},
   "source": [
    " \n",
    "For each session, the metric over time has the following trend:"
   ]
  },
  {
   "cell_type": "code",
   "execution_count": 9,
   "metadata": {},
   "outputs": [
    {
     "data": {
      "image/png": "[encoded data removed]",
      "text/plain": [
       "<matplotlib.figure.Figure at 0x7f6383765b50>"
      ]
     },
     "metadata": {},
     "output_type": "display_data"
    }
   ],
   "source": [
    "%matplotlib inline\n",
    "plt.figure(figsize=(10,7))\n",
    "plt.plot(time,result)\n",
    "plt.xlabel('Time [s]')\n",
    "plt.ylabel('ROM [degree]')    \n",
    "plt.show() "
   ]
  }
 ],
 "metadata": {},
 "nbformat": 4,
 "nbformat_minor": 2
}
